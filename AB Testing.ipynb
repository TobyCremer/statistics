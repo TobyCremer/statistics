{
 "cells": [
  {
   "cell_type": "markdown",
   "id": "92cb55f0-681d-47b5-a33f-c68d6dde3cc5",
   "metadata": {},
   "source": [
    "# AB Testing"
   ]
  },
  {
   "cell_type": "code",
   "execution_count": 82,
   "id": "3ba4f60f-de30-41d9-8980-32d0148f5717",
   "metadata": {},
   "outputs": [],
   "source": [
    "import pandas as pd\n",
    "import numpy as np\n",
    "import matplotlib.pyplot as plt\n",
    "import seaborn as sns\n",
    "import scipy.stats as ss\n",
    "from scipy import stats\n",
    "from statsmodels.stats import weightstats as stests"
   ]
  },
  {
   "cell_type": "code",
   "execution_count": 50,
   "id": "66ecca3e-9458-41fa-9123-d77d5116bd4d",
   "metadata": {},
   "outputs": [],
   "source": [
    "import os\n",
    "os.chdir(\"C:\\\\Users\\\\toby.cremer\\\\Documents\\\\Python\\\\AB Test\\\\\")"
   ]
  },
  {
   "cell_type": "markdown",
   "id": "ddf773af-83f3-49fc-8081-919884eddfa8",
   "metadata": {},
   "source": [
    "# Conversion"
   ]
  },
  {
   "cell_type": "code",
   "execution_count": 51,
   "id": "9e47abfc-92dc-4dc2-9ac3-2db1ddd4a273",
   "metadata": {},
   "outputs": [],
   "source": [
    "df = pd.read_csv(\"conversion_data.csv\")"
   ]
  },
  {
   "cell_type": "code",
   "execution_count": 52,
   "id": "bcfdc5e4-fb5c-472a-b451-76f4e1c1221f",
   "metadata": {},
   "outputs": [
    {
     "data": {
      "text/html": [
       "<div>\n",
       "<style scoped>\n",
       "    .dataframe tbody tr th:only-of-type {\n",
       "        vertical-align: middle;\n",
       "    }\n",
       "\n",
       "    .dataframe tbody tr th {\n",
       "        vertical-align: top;\n",
       "    }\n",
       "\n",
       "    .dataframe thead th {\n",
       "        text-align: right;\n",
       "    }\n",
       "</style>\n",
       "<table border=\"1\" class=\"dataframe\">\n",
       "  <thead>\n",
       "    <tr style=\"text-align: right;\">\n",
       "      <th></th>\n",
       "      <th>Day</th>\n",
       "      <th>Conversion_A</th>\n",
       "      <th>Conversion_B</th>\n",
       "    </tr>\n",
       "  </thead>\n",
       "  <tbody>\n",
       "    <tr>\n",
       "      <th>0</th>\n",
       "      <td>1</td>\n",
       "      <td>0.15</td>\n",
       "      <td>0.19</td>\n",
       "    </tr>\n",
       "    <tr>\n",
       "      <th>1</th>\n",
       "      <td>2</td>\n",
       "      <td>0.12</td>\n",
       "      <td>0.20</td>\n",
       "    </tr>\n",
       "    <tr>\n",
       "      <th>2</th>\n",
       "      <td>3</td>\n",
       "      <td>0.18</td>\n",
       "      <td>0.18</td>\n",
       "    </tr>\n",
       "    <tr>\n",
       "      <th>3</th>\n",
       "      <td>4</td>\n",
       "      <td>0.19</td>\n",
       "      <td>0.22</td>\n",
       "    </tr>\n",
       "    <tr>\n",
       "      <th>4</th>\n",
       "      <td>5</td>\n",
       "      <td>0.17</td>\n",
       "      <td>0.19</td>\n",
       "    </tr>\n",
       "  </tbody>\n",
       "</table>\n",
       "</div>"
      ],
      "text/plain": [
       "   Day   Conversion_A  Conversion_B\n",
       "0     1          0.15          0.19\n",
       "1     2          0.12          0.20\n",
       "2     3          0.18          0.18\n",
       "3     4          0.19          0.22\n",
       "4     5          0.17          0.19"
      ]
     },
     "execution_count": 52,
     "metadata": {},
     "output_type": "execute_result"
    }
   ],
   "source": [
    "df.head()"
   ]
  },
  {
   "cell_type": "code",
   "execution_count": 53,
   "id": "5f4c24d7-1f61-42ac-8bc7-febc58e5a66e",
   "metadata": {},
   "outputs": [
    {
     "name": "stdout",
     "output_type": "stream",
     "text": [
      "<class 'pandas.core.frame.DataFrame'>\n",
      "RangeIndex: 30 entries, 0 to 29\n",
      "Data columns (total 3 columns):\n",
      " #   Column        Non-Null Count  Dtype  \n",
      "---  ------        --------------  -----  \n",
      " 0   Day           30 non-null     int64  \n",
      " 1   Conversion_A  30 non-null     float64\n",
      " 2   Conversion_B  30 non-null     float64\n",
      "dtypes: float64(2), int64(1)\n",
      "memory usage: 848.0 bytes\n"
     ]
    }
   ],
   "source": [
    "df.info()"
   ]
  },
  {
   "cell_type": "code",
   "execution_count": 54,
   "id": "966bde80-dbf0-4b3f-8e5d-9cd753c6ad96",
   "metadata": {},
   "outputs": [
    {
     "data": {
      "text/plain": [
       "(30, 3)"
      ]
     },
     "execution_count": 54,
     "metadata": {},
     "output_type": "execute_result"
    }
   ],
   "source": [
    "df.shape"
   ]
  },
  {
   "cell_type": "code",
   "execution_count": 55,
   "id": "191c4d86-4b32-4eef-bc76-fc567d856726",
   "metadata": {},
   "outputs": [
    {
     "data": {
      "text/html": [
       "<div>\n",
       "<style scoped>\n",
       "    .dataframe tbody tr th:only-of-type {\n",
       "        vertical-align: middle;\n",
       "    }\n",
       "\n",
       "    .dataframe tbody tr th {\n",
       "        vertical-align: top;\n",
       "    }\n",
       "\n",
       "    .dataframe thead th {\n",
       "        text-align: right;\n",
       "    }\n",
       "</style>\n",
       "<table border=\"1\" class=\"dataframe\">\n",
       "  <thead>\n",
       "    <tr style=\"text-align: right;\">\n",
       "      <th></th>\n",
       "      <th>Day</th>\n",
       "      <th>Conversion_A</th>\n",
       "      <th>Conversion_B</th>\n",
       "    </tr>\n",
       "  </thead>\n",
       "  <tbody>\n",
       "    <tr>\n",
       "      <th>count</th>\n",
       "      <td>30.000000</td>\n",
       "      <td>30.000000</td>\n",
       "      <td>30.000000</td>\n",
       "    </tr>\n",
       "    <tr>\n",
       "      <th>mean</th>\n",
       "      <td>15.500000</td>\n",
       "      <td>0.162000</td>\n",
       "      <td>0.193333</td>\n",
       "    </tr>\n",
       "    <tr>\n",
       "      <th>std</th>\n",
       "      <td>8.803408</td>\n",
       "      <td>0.036141</td>\n",
       "      <td>0.027334</td>\n",
       "    </tr>\n",
       "    <tr>\n",
       "      <th>min</th>\n",
       "      <td>1.000000</td>\n",
       "      <td>0.100000</td>\n",
       "      <td>0.150000</td>\n",
       "    </tr>\n",
       "    <tr>\n",
       "      <th>25%</th>\n",
       "      <td>8.250000</td>\n",
       "      <td>0.132500</td>\n",
       "      <td>0.180000</td>\n",
       "    </tr>\n",
       "    <tr>\n",
       "      <th>50%</th>\n",
       "      <td>15.500000</td>\n",
       "      <td>0.165000</td>\n",
       "      <td>0.190000</td>\n",
       "    </tr>\n",
       "    <tr>\n",
       "      <th>75%</th>\n",
       "      <td>22.750000</td>\n",
       "      <td>0.187500</td>\n",
       "      <td>0.200000</td>\n",
       "    </tr>\n",
       "    <tr>\n",
       "      <th>max</th>\n",
       "      <td>30.000000</td>\n",
       "      <td>0.230000</td>\n",
       "      <td>0.270000</td>\n",
       "    </tr>\n",
       "  </tbody>\n",
       "</table>\n",
       "</div>"
      ],
      "text/plain": [
       "            Day   Conversion_A  Conversion_B\n",
       "count  30.000000     30.000000     30.000000\n",
       "mean   15.500000      0.162000      0.193333\n",
       "std     8.803408      0.036141      0.027334\n",
       "min     1.000000      0.100000      0.150000\n",
       "25%     8.250000      0.132500      0.180000\n",
       "50%    15.500000      0.165000      0.190000\n",
       "75%    22.750000      0.187500      0.200000\n",
       "max    30.000000      0.230000      0.270000"
      ]
     },
     "execution_count": 55,
     "metadata": {},
     "output_type": "execute_result"
    }
   ],
   "source": [
    "# Descriptive Statistics\n",
    "df.describe()"
   ]
  },
  {
   "cell_type": "code",
   "execution_count": 56,
   "id": "10f9cf17-cae3-4479-ac78-c7a30084a19e",
   "metadata": {},
   "outputs": [
    {
     "name": "stderr",
     "output_type": "stream",
     "text": [
      "C:\\Users\\toby.cremer\\Anaconda3\\lib\\site-packages\\seaborn\\distributions.py:2619: FutureWarning: `distplot` is a deprecated function and will be removed in a future version. Please adapt your code to use either `displot` (a figure-level function with similar flexibility) or `histplot` (an axes-level function for histograms).\n",
      "  warnings.warn(msg, FutureWarning)\n"
     ]
    },
    {
     "data": {
      "text/plain": [
       "<AxesSubplot:xlabel='Conversion_A', ylabel='Density'>"
      ]
     },
     "execution_count": 56,
     "metadata": {},
     "output_type": "execute_result"
    },
    {
     "data": {
      "image/png": "[encoded data removed]",
      "text/plain": [
       "<Figure size 432x288 with 1 Axes>"
      ]
     },
     "metadata": {
      "needs_background": "light"
     },
     "output_type": "display_data"
    }
   ],
   "source": [
    "sns.distplot(df['Conversion_A'])"
   ]
  },
  {
   "cell_type": "code",
   "execution_count": 57,
   "id": "49646ba3-df5f-46b5-b462-bf311e45b6eb",
   "metadata": {},
   "outputs": [
    {
     "name": "stderr",
     "output_type": "stream",
     "text": [
      "C:\\Users\\toby.cremer\\Anaconda3\\lib\\site-packages\\seaborn\\distributions.py:2619: FutureWarning: `distplot` is a deprecated function and will be removed in a future version. Please adapt your code to use either `displot` (a figure-level function with similar flexibility) or `histplot` (an axes-level function for histograms).\n",
      "  warnings.warn(msg, FutureWarning)\n"
     ]
    },
    {
     "data": {
      "text/plain": [
       "<AxesSubplot:xlabel='Conversion_B', ylabel='Density'>"
      ]
     },
     "execution_count": 57,
     "metadata": {},
     "output_type": "execute_result"
    },
    {
     "data": {
      "image/png": "[encoded data removed]",
      "text/plain": [
       "<Figure size 432x288 with 1 Axes>"
      ]
     },
     "metadata": {
      "needs_background": "light"
     },
     "output_type": "display_data"
    }
   ],
   "source": [
    "sns.distplot(df['Conversion_B'])"
   ]
  },
  {
   "cell_type": "markdown",
   "id": "9c58dff0-725f-4797-8b1e-c7ee57ec12ef",
   "metadata": {},
   "source": [
    "## Statistical Test\n",
    "\n",
    "### Hypothesis\n",
    "\n",
    "###### H0: Mean of Conversion A = Mean of Conversion B (The average conversion of A is equal to or the same as B)\n",
    "###### H1: Mean of Conversion A =! Mean of Conversion B (The average conversion of A is not the same as B)"
   ]
  },
  {
   "cell_type": "code",
   "execution_count": 58,
   "id": "c8de2ec2-1ad1-44fa-bd95-515bfa73037a",
   "metadata": {},
   "outputs": [],
   "source": [
    "# T-test\n",
    "\n",
    "t_stat, p_value = ss.ttest_ind(df['Conversion_A'], df['Conversion_B'])"
   ]
  },
  {
   "cell_type": "code",
   "execution_count": 59,
   "id": "5fd9976b-ee6c-431b-b711-bafa2cacee56",
   "metadata": {},
   "outputs": [
    {
     "name": "stdout",
     "output_type": "stream",
     "text": [
      "-3.78736793091929\n",
      "0.0363796012828762\n"
     ]
    }
   ],
   "source": [
    "print(t_stat)\n",
    "print(p_value*100)"
   ]
  },
  {
   "cell_type": "markdown",
   "id": "cfc1604d-4971-4611-9c1c-1250612a33a1",
   "metadata": {},
   "source": [
    "### Results\n",
    "\n",
    "##### The performance of Conversion A is less than the performance of Conversion B\n",
    "##### The p value confirms that this is statistcally significant"
   ]
  },
  {
   "cell_type": "markdown",
   "id": "e9338994-2216-470f-ad6a-94d3b8e6a419",
   "metadata": {},
   "source": [
    "# AB Test Results"
   ]
  },
  {
   "cell_type": "code",
   "execution_count": 61,
   "id": "c9212314-aa40-49be-8627-29621a9d98d6",
   "metadata": {},
   "outputs": [],
   "source": [
    "df = pd.read_csv(\"AB_Test_Results.csv\")"
   ]
  },
  {
   "cell_type": "code",
   "execution_count": 62,
   "id": "e53f8975-e6a6-4b76-81af-bf70ff899d23",
   "metadata": {},
   "outputs": [
    {
     "data": {
      "text/html": [
       "<div>\n",
       "<style scoped>\n",
       "    .dataframe tbody tr th:only-of-type {\n",
       "        vertical-align: middle;\n",
       "    }\n",
       "\n",
       "    .dataframe tbody tr th {\n",
       "        vertical-align: top;\n",
       "    }\n",
       "\n",
       "    .dataframe thead th {\n",
       "        text-align: right;\n",
       "    }\n",
       "</style>\n",
       "<table border=\"1\" class=\"dataframe\">\n",
       "  <thead>\n",
       "    <tr style=\"text-align: right;\">\n",
       "      <th></th>\n",
       "      <th>USER_ID</th>\n",
       "      <th>VARIANT_NAME</th>\n",
       "      <th>REVENUE</th>\n",
       "    </tr>\n",
       "  </thead>\n",
       "  <tbody>\n",
       "    <tr>\n",
       "      <th>0</th>\n",
       "      <td>737</td>\n",
       "      <td>variant</td>\n",
       "      <td>0.0</td>\n",
       "    </tr>\n",
       "    <tr>\n",
       "      <th>1</th>\n",
       "      <td>2423</td>\n",
       "      <td>control</td>\n",
       "      <td>0.0</td>\n",
       "    </tr>\n",
       "    <tr>\n",
       "      <th>2</th>\n",
       "      <td>9411</td>\n",
       "      <td>control</td>\n",
       "      <td>0.0</td>\n",
       "    </tr>\n",
       "    <tr>\n",
       "      <th>3</th>\n",
       "      <td>7311</td>\n",
       "      <td>control</td>\n",
       "      <td>0.0</td>\n",
       "    </tr>\n",
       "    <tr>\n",
       "      <th>4</th>\n",
       "      <td>6174</td>\n",
       "      <td>variant</td>\n",
       "      <td>0.0</td>\n",
       "    </tr>\n",
       "  </tbody>\n",
       "</table>\n",
       "</div>"
      ],
      "text/plain": [
       "   USER_ID VARIANT_NAME  REVENUE\n",
       "0      737      variant      0.0\n",
       "1     2423      control      0.0\n",
       "2     9411      control      0.0\n",
       "3     7311      control      0.0\n",
       "4     6174      variant      0.0"
      ]
     },
     "execution_count": 62,
     "metadata": {},
     "output_type": "execute_result"
    }
   ],
   "source": [
    "df.head()"
   ]
  },
  {
   "cell_type": "code",
   "execution_count": 66,
   "id": "b35b8e08-3840-425c-afad-6fda0bad842c",
   "metadata": {},
   "outputs": [
    {
     "name": "stdout",
     "output_type": "stream",
     "text": [
      "<class 'pandas.core.frame.DataFrame'>\n",
      "RangeIndex: 10000 entries, 0 to 9999\n",
      "Data columns (total 3 columns):\n",
      " #   Column        Non-Null Count  Dtype  \n",
      "---  ------        --------------  -----  \n",
      " 0   USER_ID       10000 non-null  int64  \n",
      " 1   VARIANT_NAME  10000 non-null  object \n",
      " 2   REVENUE       10000 non-null  float64\n",
      "dtypes: float64(1), int64(1), object(1)\n",
      "memory usage: 234.5+ KB\n"
     ]
    }
   ],
   "source": [
    "df.info()"
   ]
  },
  {
   "cell_type": "code",
   "execution_count": 74,
   "id": "b1600b98-3461-4f2d-8f65-bf2e6792360b",
   "metadata": {},
   "outputs": [
    {
     "data": {
      "text/plain": [
       "(10000, 3)"
      ]
     },
     "execution_count": 74,
     "metadata": {},
     "output_type": "execute_result"
    }
   ],
   "source": [
    "df.shape"
   ]
  },
  {
   "cell_type": "code",
   "execution_count": 71,
   "id": "5f8de60a-deef-4da2-8f46-0d419b70cb5c",
   "metadata": {},
   "outputs": [
    {
     "data": {
      "text/plain": [
       "0.07006977671451357"
      ]
     },
     "execution_count": 71,
     "metadata": {},
     "output_type": "execute_result"
    }
   ],
   "source": [
    "df[df['VARIANT_NAME'] == 'variant']['REVENUE'].mean()"
   ]
  },
  {
   "cell_type": "code",
   "execution_count": 72,
   "id": "e114450d-9abe-41eb-9257-11009b5ebb0f",
   "metadata": {},
   "outputs": [
    {
     "data": {
      "text/plain": [
       "0.1290128410914928"
      ]
     },
     "execution_count": 72,
     "metadata": {},
     "output_type": "execute_result"
    }
   ],
   "source": [
    "df[df['VARIANT_NAME'] == 'control']['REVENUE'].mean()"
   ]
  },
  {
   "cell_type": "code",
   "execution_count": 75,
   "id": "9c2f3b6b-7576-4ad7-9344-d42966a11602",
   "metadata": {},
   "outputs": [
    {
     "name": "stderr",
     "output_type": "stream",
     "text": [
      "C:\\Users\\toby.cremer\\Anaconda3\\lib\\site-packages\\seaborn\\distributions.py:2619: FutureWarning: `distplot` is a deprecated function and will be removed in a future version. Please adapt your code to use either `displot` (a figure-level function with similar flexibility) or `histplot` (an axes-level function for histograms).\n",
      "  warnings.warn(msg, FutureWarning)\n"
     ]
    },
    {
     "data": {
      "text/plain": [
       "<AxesSubplot:xlabel='REVENUE', ylabel='Density'>"
      ]
     },
     "execution_count": 75,
     "metadata": {},
     "output_type": "execute_result"
    },
    {
     "data": {
      "image/png": "[encoded data removed]",
      "text/plain": [
       "<Figure size 432x288 with 1 Axes>"
      ]
     },
     "metadata": {
      "needs_background": "light"
     },
     "output_type": "display_data"
    }
   ],
   "source": [
    "sns.distplot(df[df['VARIANT_NAME'] == 'variant']['REVENUE'])"
   ]
  },
  {
   "cell_type": "code",
   "execution_count": 76,
   "id": "90859247-96f1-4a88-ab8e-e88ed689a3de",
   "metadata": {},
   "outputs": [
    {
     "name": "stderr",
     "output_type": "stream",
     "text": [
      "C:\\Users\\toby.cremer\\Anaconda3\\lib\\site-packages\\seaborn\\distributions.py:2619: FutureWarning: `distplot` is a deprecated function and will be removed in a future version. Please adapt your code to use either `displot` (a figure-level function with similar flexibility) or `histplot` (an axes-level function for histograms).\n",
      "  warnings.warn(msg, FutureWarning)\n"
     ]
    },
    {
     "data": {
      "text/plain": [
       "<AxesSubplot:xlabel='REVENUE', ylabel='Density'>"
      ]
     },
     "execution_count": 76,
     "metadata": {},
     "output_type": "execute_result"
    },
    {
     "data": {
      "image/png": "[encoded data removed]",
      "text/plain": [
       "<Figure size 432x288 with 1 Axes>"
      ]
     },
     "metadata": {
      "needs_background": "light"
     },
     "output_type": "display_data"
    }
   ],
   "source": [
    "sns.distplot(df[df['VARIANT_NAME'] == 'control']['REVENUE'])"
   ]
  },
  {
   "cell_type": "markdown",
   "id": "8cd68ddc-1ee0-4c4c-ba8d-b57bc49e7af3",
   "metadata": {},
   "source": [
    "## Statistical Test\n",
    "\n",
    "### Hypothesis\n",
    "\n",
    "###### H0: Variant = Control\n",
    "###### H1: Variant =! Control"
   ]
  },
  {
   "cell_type": "code",
   "execution_count": 89,
   "id": "5adbaeb4-3ba4-4364-b49b-92185aa62bd0",
   "metadata": {},
   "outputs": [],
   "source": [
    "# Z test\n",
    "\n",
    "ztest, p_val = stests.ztest(df[df['VARIANT_NAME'] == 'control']['REVENUE'], df[df['VARIANT_NAME'] == 'variant']['REVENUE'])"
   ]
  },
  {
   "cell_type": "code",
   "execution_count": 90,
   "id": "2fb4219c-e3af-4c73-a8ee-74572e88517b",
   "metadata": {},
   "outputs": [
    {
     "name": "stdout",
     "output_type": "stream",
     "text": [
      "1.2711634519010084\n",
      "0.20367050576991452\n"
     ]
    }
   ],
   "source": [
    "print(ztest)\n",
    "print(p_val)"
   ]
  },
  {
   "cell_type": "markdown",
   "id": "f4e97d78-49a0-4381-b239-409b9acd564d",
   "metadata": {},
   "source": [
    "### Results\n",
    "\n",
    "##### The control is outperforming the variant\n",
    "##### However the p values is high so this could be due to random chance"
   ]
  },
  {
   "cell_type": "markdown",
   "id": "b6400f4e-396c-4a21-bee5-4969270f6f33",
   "metadata": {},
   "source": [
    "# Grocery Website Data"
   ]
  },
  {
   "cell_type": "code",
   "execution_count": 93,
   "id": "5544a8c0-af02-42ba-93b0-29fe6c345e9c",
   "metadata": {},
   "outputs": [],
   "source": [
    "df = pd.read_csv(\"grocerywebsiteabtestdata.csv\")"
   ]
  },
  {
   "cell_type": "code",
   "execution_count": 94,
   "id": "904f0023-ef5b-49b0-9e84-cf1ed8f79c41",
   "metadata": {},
   "outputs": [
    {
     "data": {
      "text/html": [
       "<div>\n",
       "<style scoped>\n",
       "    .dataframe tbody tr th:only-of-type {\n",
       "        vertical-align: middle;\n",
       "    }\n",
       "\n",
       "    .dataframe tbody tr th {\n",
       "        vertical-align: top;\n",
       "    }\n",
       "\n",
       "    .dataframe thead th {\n",
       "        text-align: right;\n",
       "    }\n",
       "</style>\n",
       "<table border=\"1\" class=\"dataframe\">\n",
       "  <thead>\n",
       "    <tr style=\"text-align: right;\">\n",
       "      <th></th>\n",
       "      <th>RecordID</th>\n",
       "      <th>IP Address</th>\n",
       "      <th>LoggedInFlag</th>\n",
       "      <th>ServerID</th>\n",
       "      <th>VisitPageFlag</th>\n",
       "    </tr>\n",
       "  </thead>\n",
       "  <tbody>\n",
       "    <tr>\n",
       "      <th>0</th>\n",
       "      <td>1</td>\n",
       "      <td>39.13.114.2</td>\n",
       "      <td>1</td>\n",
       "      <td>2</td>\n",
       "      <td>0</td>\n",
       "    </tr>\n",
       "    <tr>\n",
       "      <th>1</th>\n",
       "      <td>2</td>\n",
       "      <td>13.3.25.8</td>\n",
       "      <td>1</td>\n",
       "      <td>1</td>\n",
       "      <td>0</td>\n",
       "    </tr>\n",
       "    <tr>\n",
       "      <th>2</th>\n",
       "      <td>3</td>\n",
       "      <td>247.8.211.8</td>\n",
       "      <td>1</td>\n",
       "      <td>1</td>\n",
       "      <td>0</td>\n",
       "    </tr>\n",
       "    <tr>\n",
       "      <th>3</th>\n",
       "      <td>4</td>\n",
       "      <td>124.8.220.3</td>\n",
       "      <td>0</td>\n",
       "      <td>3</td>\n",
       "      <td>0</td>\n",
       "    </tr>\n",
       "    <tr>\n",
       "      <th>4</th>\n",
       "      <td>5</td>\n",
       "      <td>60.10.192.7</td>\n",
       "      <td>0</td>\n",
       "      <td>2</td>\n",
       "      <td>0</td>\n",
       "    </tr>\n",
       "  </tbody>\n",
       "</table>\n",
       "</div>"
      ],
      "text/plain": [
       "   RecordID   IP Address  LoggedInFlag  ServerID  VisitPageFlag\n",
       "0         1  39.13.114.2             1         2              0\n",
       "1         2    13.3.25.8             1         1              0\n",
       "2         3  247.8.211.8             1         1              0\n",
       "3         4  124.8.220.3             0         3              0\n",
       "4         5  60.10.192.7             0         2              0"
      ]
     },
     "execution_count": 94,
     "metadata": {},
     "output_type": "execute_result"
    }
   ],
   "source": [
    "df.head()"
   ]
  },
  {
   "cell_type": "code",
   "execution_count": 96,
   "id": "b0348fc6-36db-49fb-b377-3864f2ac615d",
   "metadata": {},
   "outputs": [
    {
     "name": "stdout",
     "output_type": "stream",
     "text": [
      "<class 'pandas.core.frame.DataFrame'>\n",
      "RangeIndex: 184588 entries, 0 to 184587\n",
      "Data columns (total 5 columns):\n",
      " #   Column         Non-Null Count   Dtype \n",
      "---  ------         --------------   ----- \n",
      " 0   RecordID       184588 non-null  int64 \n",
      " 1   IP Address     184588 non-null  object\n",
      " 2   LoggedInFlag   184588 non-null  int64 \n",
      " 3   ServerID       184588 non-null  int64 \n",
      " 4   VisitPageFlag  184588 non-null  int64 \n",
      "dtypes: int64(4), object(1)\n",
      "memory usage: 7.0+ MB\n"
     ]
    }
   ],
   "source": [
    "df.info()"
   ]
  },
  {
   "cell_type": "code",
   "execution_count": 97,
   "id": "adfacedc-fd79-4846-a6bb-09bcc48d6473",
   "metadata": {},
   "outputs": [
    {
     "data": {
      "text/plain": [
       "(184588, 5)"
      ]
     },
     "execution_count": 97,
     "metadata": {},
     "output_type": "execute_result"
    }
   ],
   "source": [
    "df.shape"
   ]
  },
  {
   "cell_type": "code",
   "execution_count": 98,
   "id": "dd720047-8f83-4d99-8903-6fc88964ab6b",
   "metadata": {},
   "outputs": [
    {
     "data": {
      "text/plain": [
       "array([1, 0], dtype=int64)"
      ]
     },
     "execution_count": 98,
     "metadata": {},
     "output_type": "execute_result"
    }
   ],
   "source": [
    "df['LoggedInFlag'].unique()"
   ]
  },
  {
   "cell_type": "code",
   "execution_count": 99,
   "id": "8ea3888a-f4af-4c88-aa5e-20d9748737e2",
   "metadata": {},
   "outputs": [
    {
     "data": {
      "text/plain": [
       "array([2, 1, 3], dtype=int64)"
      ]
     },
     "execution_count": 99,
     "metadata": {},
     "output_type": "execute_result"
    }
   ],
   "source": [
    "df['ServerID'].unique()"
   ]
  },
  {
   "cell_type": "code",
   "execution_count": 100,
   "id": "8385a589-e255-4ce2-b38f-0b664ac868a9",
   "metadata": {},
   "outputs": [
    {
     "data": {
      "text/plain": [
       "array([0, 1], dtype=int64)"
      ]
     },
     "execution_count": 100,
     "metadata": {},
     "output_type": "execute_result"
    }
   ],
   "source": [
    "df['VisitPageFlag'].unique()"
   ]
  },
  {
   "cell_type": "markdown",
   "id": "976437f9-a7dc-4176-89f6-a3138b4d48b4",
   "metadata": {},
   "source": [
    "# Cookie Cats"
   ]
  },
  {
   "cell_type": "code",
   "execution_count": 101,
   "id": "44160e49-7eb0-4a2e-bd7b-08cac6f63314",
   "metadata": {},
   "outputs": [],
   "source": [
    "df = pd.read_csv(\"cookie_cats.csv\")"
   ]
  },
  {
   "cell_type": "code",
   "execution_count": 102,
   "id": "afaddd3f-fc37-4614-a6a9-fd0b9f9d57dd",
   "metadata": {},
   "outputs": [
    {
     "data": {
      "text/html": [
       "<div>\n",
       "<style scoped>\n",
       "    .dataframe tbody tr th:only-of-type {\n",
       "        vertical-align: middle;\n",
       "    }\n",
       "\n",
       "    .dataframe tbody tr th {\n",
       "        vertical-align: top;\n",
       "    }\n",
       "\n",
       "    .dataframe thead th {\n",
       "        text-align: right;\n",
       "    }\n",
       "</style>\n",
       "<table border=\"1\" class=\"dataframe\">\n",
       "  <thead>\n",
       "    <tr style=\"text-align: right;\">\n",
       "      <th></th>\n",
       "      <th>userid</th>\n",
       "      <th>version</th>\n",
       "      <th>sum_gamerounds</th>\n",
       "      <th>retention_1</th>\n",
       "      <th>retention_7</th>\n",
       "    </tr>\n",
       "  </thead>\n",
       "  <tbody>\n",
       "    <tr>\n",
       "      <th>0</th>\n",
       "      <td>116</td>\n",
       "      <td>gate_30</td>\n",
       "      <td>3</td>\n",
       "      <td>False</td>\n",
       "      <td>False</td>\n",
       "    </tr>\n",
       "    <tr>\n",
       "      <th>1</th>\n",
       "      <td>337</td>\n",
       "      <td>gate_30</td>\n",
       "      <td>38</td>\n",
       "      <td>True</td>\n",
       "      <td>False</td>\n",
       "    </tr>\n",
       "    <tr>\n",
       "      <th>2</th>\n",
       "      <td>377</td>\n",
       "      <td>gate_40</td>\n",
       "      <td>165</td>\n",
       "      <td>True</td>\n",
       "      <td>False</td>\n",
       "    </tr>\n",
       "    <tr>\n",
       "      <th>3</th>\n",
       "      <td>483</td>\n",
       "      <td>gate_40</td>\n",
       "      <td>1</td>\n",
       "      <td>False</td>\n",
       "      <td>False</td>\n",
       "    </tr>\n",
       "    <tr>\n",
       "      <th>4</th>\n",
       "      <td>488</td>\n",
       "      <td>gate_40</td>\n",
       "      <td>179</td>\n",
       "      <td>True</td>\n",
       "      <td>True</td>\n",
       "    </tr>\n",
       "  </tbody>\n",
       "</table>\n",
       "</div>"
      ],
      "text/plain": [
       "   userid  version  sum_gamerounds  retention_1  retention_7\n",
       "0     116  gate_30               3        False        False\n",
       "1     337  gate_30              38         True        False\n",
       "2     377  gate_40             165         True        False\n",
       "3     483  gate_40               1        False        False\n",
       "4     488  gate_40             179         True         True"
      ]
     },
     "execution_count": 102,
     "metadata": {},
     "output_type": "execute_result"
    }
   ],
   "source": [
    "df.head()"
   ]
  },
  {
   "cell_type": "code",
   "execution_count": 104,
   "id": "840149b7-51d7-4b97-ab22-2a214a848aec",
   "metadata": {},
   "outputs": [
    {
     "name": "stdout",
     "output_type": "stream",
     "text": [
      "<class 'pandas.core.frame.DataFrame'>\n",
      "RangeIndex: 90189 entries, 0 to 90188\n",
      "Data columns (total 5 columns):\n",
      " #   Column          Non-Null Count  Dtype \n",
      "---  ------          --------------  ----- \n",
      " 0   userid          90189 non-null  int64 \n",
      " 1   version         90189 non-null  object\n",
      " 2   sum_gamerounds  90189 non-null  int64 \n",
      " 3   retention_1     90189 non-null  bool  \n",
      " 4   retention_7     90189 non-null  bool  \n",
      "dtypes: bool(2), int64(2), object(1)\n",
      "memory usage: 2.2+ MB\n"
     ]
    }
   ],
   "source": [
    "df.info()"
   ]
  },
  {
   "cell_type": "code",
   "execution_count": 105,
   "id": "178e9427-062a-440e-928b-0c9416c1472b",
   "metadata": {},
   "outputs": [
    {
     "data": {
      "text/plain": [
       "(90189, 5)"
      ]
     },
     "execution_count": 105,
     "metadata": {},
     "output_type": "execute_result"
    }
   ],
   "source": [
    "df.shape"
   ]
  },
  {
   "cell_type": "code",
   "execution_count": 108,
   "id": "0de8c402-e417-48cd-910d-105395f5aa16",
   "metadata": {},
   "outputs": [
    {
     "data": {
      "text/plain": [
       "52.45626398210291"
      ]
     },
     "execution_count": 108,
     "metadata": {},
     "output_type": "execute_result"
    }
   ],
   "source": [
    "df[df['version'] == 'gate_30']['sum_gamerounds'].mean()"
   ]
  },
  {
   "cell_type": "code",
   "execution_count": 109,
   "id": "77d7403d-0442-47f6-97b2-57b3382d955f",
   "metadata": {},
   "outputs": [
    {
     "data": {
      "text/plain": [
       "51.29877552814966"
      ]
     },
     "execution_count": 109,
     "metadata": {},
     "output_type": "execute_result"
    }
   ],
   "source": [
    "df[df['version'] == 'gate_40']['sum_gamerounds'].mean()"
   ]
  },
  {
   "cell_type": "code",
   "execution_count": 110,
   "id": "2ad1dc7d-a284-4463-b305-d46652a06684",
   "metadata": {},
   "outputs": [
    {
     "name": "stderr",
     "output_type": "stream",
     "text": [
      "C:\\Users\\toby.cremer\\Anaconda3\\lib\\site-packages\\seaborn\\distributions.py:2619: FutureWarning: `distplot` is a deprecated function and will be removed in a future version. Please adapt your code to use either `displot` (a figure-level function with similar flexibility) or `histplot` (an axes-level function for histograms).\n",
      "  warnings.warn(msg, FutureWarning)\n"
     ]
    },
    {
     "data": {
      "text/plain": [
       "<AxesSubplot:xlabel='sum_gamerounds', ylabel='Density'>"
      ]
     },
     "execution_count": 110,
     "metadata": {},
     "output_type": "execute_result"
    },
    {
     "data": {
      "image/png": "[encoded data removed]",
      "text/plain": [
       "<Figure size 432x288 with 1 Axes>"
      ]
     },
     "metadata": {
      "needs_background": "light"
     },
     "output_type": "display_data"
    }
   ],
   "source": [
    "sns.distplot(df[df['version'] == 'gate_30']['sum_gamerounds'])"
   ]
  },
  {
   "cell_type": "code",
   "execution_count": 112,
   "id": "17057563-5700-44be-a07b-0c9d0cca3c03",
   "metadata": {},
   "outputs": [
    {
     "name": "stderr",
     "output_type": "stream",
     "text": [
      "C:\\Users\\toby.cremer\\Anaconda3\\lib\\site-packages\\seaborn\\distributions.py:2619: FutureWarning: `distplot` is a deprecated function and will be removed in a future version. Please adapt your code to use either `displot` (a figure-level function with similar flexibility) or `histplot` (an axes-level function for histograms).\n",
      "  warnings.warn(msg, FutureWarning)\n"
     ]
    },
    {
     "data": {
      "text/plain": [
       "<AxesSubplot:xlabel='sum_gamerounds', ylabel='Density'>"
      ]
     },
     "execution_count": 112,
     "metadata": {},
     "output_type": "execute_result"
    },
    {
     "data": {
      "image/png": "[encoded data removed]",
      "text/plain": [
       "<Figure size 432x288 with 1 Axes>"
      ]
     },
     "metadata": {
      "needs_background": "light"
     },
     "output_type": "display_data"
    }
   ],
   "source": [
    "sns.distplot(df[df['version'] == 'gate_40']['sum_gamerounds'])"
   ]
  },
  {
   "cell_type": "markdown",
   "id": "ccf24368-881e-428f-911d-3b9d8c466d24",
   "metadata": {},
   "source": [
    "### Statistical Test\n",
    "\n",
    "### Hypothesis\n",
    "\n",
    "##### H0: Is there no differenc between Gate 30 and Gate 40 (Gate 30 sum of games rounds = Gate 40 sum of games rounds)\n",
    "\n",
    "##### H1: There is a differnce between Gate 30 and Gate 40 ( Gate 30 sum of games rounds =! Gate 40 sum of games rounds)"
   ]
  },
  {
   "cell_type": "code",
   "execution_count": 114,
   "id": "08c16997-7380-4bb7-b3a8-ab86da706eb9",
   "metadata": {},
   "outputs": [],
   "source": [
    "z_stat, p_value = stests.ztest(df[df['version'] == 'gate_30']['sum_gamerounds'], df[df['version'] == 'gate_40']['sum_gamerounds'])"
   ]
  },
  {
   "cell_type": "code",
   "execution_count": 115,
   "id": "d713cd97-c2dd-4fc9-a3df-9b894510cf11",
   "metadata": {},
   "outputs": [
    {
     "name": "stdout",
     "output_type": "stream",
     "text": [
      "0.8910426211362967\n",
      "0.3729063054150682\n"
     ]
    }
   ],
   "source": [
    "print(z_stat)\n",
    "print(p_value)"
   ]
  },
  {
   "cell_type": "markdown",
   "id": "31ffcdbf-79fb-4d21-ae52-b8fd7c0e07b4",
   "metadata": {},
   "source": [
    "### Results\n",
    "\n",
    "##### Gate 30 has a high sum of games rounds\n",
    "\n",
    "##### However the p values is indicating that this could be due to random chance"
   ]
  },
  {
   "cell_type": "code",
   "execution_count": 118,
   "id": "5c569f76-3530-4964-b799-1353abf99a0b",
   "metadata": {},
   "outputs": [
    {
     "data": {
      "text/plain": [
       "0.4481879194630872"
      ]
     },
     "execution_count": 118,
     "metadata": {},
     "output_type": "execute_result"
    }
   ],
   "source": [
    "df[df['version'] == 'gate_30']['retention_1'].mean()"
   ]
  },
  {
   "cell_type": "code",
   "execution_count": 120,
   "id": "3020a03e-5f88-4707-bcf0-9d49d1221db2",
   "metadata": {},
   "outputs": [
    {
     "data": {
      "text/plain": [
       "0.44228274967574577"
      ]
     },
     "execution_count": 120,
     "metadata": {},
     "output_type": "execute_result"
    }
   ],
   "source": [
    "df[df['version'] == 'gate_40']['retention_1'].mean()"
   ]
  },
  {
   "cell_type": "code",
   "execution_count": 121,
   "id": "a946851d-e58a-41a5-b677-769407c16d47",
   "metadata": {},
   "outputs": [],
   "source": [
    "z_stat, p_value = stests.ztest(df[df['version'] == 'gate_30']['retention_1'], df[df['version'] == 'gate_40']['retention_1'])"
   ]
  },
  {
   "cell_type": "code",
   "execution_count": 122,
   "id": "b48e1fbf-cfa5-46f9-a7b2-cebe47947fb9",
   "metadata": {},
   "outputs": [
    {
     "name": "stdout",
     "output_type": "stream",
     "text": [
      "1.7840979256519656\n",
      "0.07440775430035963\n"
     ]
    }
   ],
   "source": [
    "print(z_stat)\n",
    "print(p_value)"
   ]
  },
  {
   "cell_type": "code",
   "execution_count": 123,
   "id": "83b57785-859a-4c26-b378-d6e837dae010",
   "metadata": {},
   "outputs": [
    {
     "data": {
      "text/plain": [
       "0.19020134228187918"
      ]
     },
     "execution_count": 123,
     "metadata": {},
     "output_type": "execute_result"
    }
   ],
   "source": [
    "df[df['version'] == 'gate_30']['retention_7'].mean()"
   ]
  },
  {
   "cell_type": "code",
   "execution_count": 124,
   "id": "0a823772-e420-4d99-9c11-66032591185b",
   "metadata": {},
   "outputs": [
    {
     "data": {
      "text/plain": [
       "0.18200004396667327"
      ]
     },
     "execution_count": 124,
     "metadata": {},
     "output_type": "execute_result"
    }
   ],
   "source": [
    "df[df['version'] == 'gate_40']['retention_7'].mean()"
   ]
  },
  {
   "cell_type": "code",
   "execution_count": 125,
   "id": "ebea1a26-c953-4e58-ac3d-ed54658f097a",
   "metadata": {},
   "outputs": [],
   "source": [
    "z_stat, p_value = stests.ztest(df[df['version'] == 'gate_30']['retention_7'], df[df['version'] == 'gate_40']['retention_7'])"
   ]
  },
  {
   "cell_type": "code",
   "execution_count": 126,
   "id": "235a26cd-60d0-41f7-8cef-73b825f05a52",
   "metadata": {},
   "outputs": [
    {
     "name": "stdout",
     "output_type": "stream",
     "text": [
      "3.1644994996802778\n",
      "0.0015534992923098888\n"
     ]
    }
   ],
   "source": [
    "print(z_stat)\n",
    "print(p_value)"
   ]
  },
  {
   "cell_type": "markdown",
   "id": "07826459-b27a-47a0-9815-aeb6489872f7",
   "metadata": {},
   "source": [
    "# Landing Page Test"
   ]
  },
  {
   "cell_type": "code",
   "execution_count": 172,
   "id": "b9b152cc-cc0f-4c88-ae9b-8806c73740d7",
   "metadata": {},
   "outputs": [],
   "source": [
    "df = pd.read_csv(\"ab_data.csv\")"
   ]
  },
  {
   "cell_type": "code",
   "execution_count": 173,
   "id": "dbd9c130-d232-4882-8c60-f9023b1d7c32",
   "metadata": {
    "tags": []
   },
   "outputs": [
    {
     "data": {
      "text/html": [
       "<div>\n",
       "<style scoped>\n",
       "    .dataframe tbody tr th:only-of-type {\n",
       "        vertical-align: middle;\n",
       "    }\n",
       "\n",
       "    .dataframe tbody tr th {\n",
       "        vertical-align: top;\n",
       "    }\n",
       "\n",
       "    .dataframe thead th {\n",
       "        text-align: right;\n",
       "    }\n",
       "</style>\n",
       "<table border=\"1\" class=\"dataframe\">\n",
       "  <thead>\n",
       "    <tr style=\"text-align: right;\">\n",
       "      <th></th>\n",
       "      <th>user_id</th>\n",
       "      <th>timestamp</th>\n",
       "      <th>group</th>\n",
       "      <th>landing_page</th>\n",
       "      <th>converted</th>\n",
       "    </tr>\n",
       "  </thead>\n",
       "  <tbody>\n",
       "    <tr>\n",
       "      <th>0</th>\n",
       "      <td>851104</td>\n",
       "      <td>2017-01-21 22:11:48.556739</td>\n",
       "      <td>control</td>\n",
       "      <td>old_page</td>\n",
       "      <td>0</td>\n",
       "    </tr>\n",
       "    <tr>\n",
       "      <th>1</th>\n",
       "      <td>804228</td>\n",
       "      <td>2017-01-12 08:01:45.159739</td>\n",
       "      <td>control</td>\n",
       "      <td>old_page</td>\n",
       "      <td>0</td>\n",
       "    </tr>\n",
       "    <tr>\n",
       "      <th>2</th>\n",
       "      <td>661590</td>\n",
       "      <td>2017-01-11 16:55:06.154213</td>\n",
       "      <td>treatment</td>\n",
       "      <td>new_page</td>\n",
       "      <td>0</td>\n",
       "    </tr>\n",
       "    <tr>\n",
       "      <th>3</th>\n",
       "      <td>853541</td>\n",
       "      <td>2017-01-08 18:28:03.143765</td>\n",
       "      <td>treatment</td>\n",
       "      <td>new_page</td>\n",
       "      <td>0</td>\n",
       "    </tr>\n",
       "    <tr>\n",
       "      <th>4</th>\n",
       "      <td>864975</td>\n",
       "      <td>2017-01-21 01:52:26.210827</td>\n",
       "      <td>control</td>\n",
       "      <td>old_page</td>\n",
       "      <td>1</td>\n",
       "    </tr>\n",
       "  </tbody>\n",
       "</table>\n",
       "</div>"
      ],
      "text/plain": [
       "   user_id                   timestamp      group landing_page  converted\n",
       "0   851104  2017-01-21 22:11:48.556739    control     old_page          0\n",
       "1   804228  2017-01-12 08:01:45.159739    control     old_page          0\n",
       "2   661590  2017-01-11 16:55:06.154213  treatment     new_page          0\n",
       "3   853541  2017-01-08 18:28:03.143765  treatment     new_page          0\n",
       "4   864975  2017-01-21 01:52:26.210827    control     old_page          1"
      ]
     },
     "execution_count": 173,
     "metadata": {},
     "output_type": "execute_result"
    }
   ],
   "source": [
    "df.head()"
   ]
  },
  {
   "cell_type": "code",
   "execution_count": 174,
   "id": "78244119-da14-4e66-99da-d70fff6c201f",
   "metadata": {},
   "outputs": [
    {
     "name": "stdout",
     "output_type": "stream",
     "text": [
      "(294478, 5)\n",
      "290584\n"
     ]
    }
   ],
   "source": [
    "print(df.shape)\n",
    "print(df.user_id.nunique())"
   ]
  },
  {
   "cell_type": "code",
   "execution_count": 178,
   "id": "6dbeedcf-7129-4cb2-89f2-5176395c51d9",
   "metadata": {},
   "outputs": [],
   "source": [
    "# changing the timestamp to datetime\n",
    "df['timestamp'] = pd.to_datetime(df['timestamp'])"
   ]
  },
  {
   "cell_type": "code",
   "execution_count": 181,
   "id": "fa7c40a2-30a9-4727-bd63-d67b63667fa1",
   "metadata": {},
   "outputs": [
    {
     "name": "stdout",
     "output_type": "stream",
     "text": [
      "2017-01-02 13:42:05.378582\n",
      "2017-01-24 13:41:54.460509\n"
     ]
    }
   ],
   "source": [
    "print(df['timestamp'].min())\n",
    "print(df['timestamp'].max())"
   ]
  },
  {
   "cell_type": "code",
   "execution_count": 163,
   "id": "4e4a1a9c-e96c-412b-bb71-aa654f4a5931",
   "metadata": {},
   "outputs": [],
   "source": [
    "# Lets drop the duplicate records\n",
    "df = df.drop_duplicates('user_id')"
   ]
  },
  {
   "cell_type": "code",
   "execution_count": 164,
   "id": "e72feb46-0710-4190-8c80-80aa06671a3f",
   "metadata": {},
   "outputs": [],
   "source": [
    "control = df[df['group'] == 'control'] \n",
    "treatment = df[df['group'] == 'treatment']"
   ]
  },
  {
   "cell_type": "code",
   "execution_count": 165,
   "id": "32c16aba-ba15-4f35-8180-62f051733d09",
   "metadata": {},
   "outputs": [],
   "source": [
    "# droping the control gorup who were shown the wrong page\n",
    "control = control[control['landing_page'] != 'new_page']"
   ]
  },
  {
   "cell_type": "code",
   "execution_count": 166,
   "id": "b66f8b1c-eb90-4506-b6ac-2887d1606d05",
   "metadata": {},
   "outputs": [],
   "source": [
    "# droping the treatment group who were shown the wrong page\n",
    "treatment = treatment[treatment['landing_page'] != 'old_page']"
   ]
  },
  {
   "cell_type": "code",
   "execution_count": 167,
   "id": "4d822969-ade2-4270-9686-fbed1351016f",
   "metadata": {},
   "outputs": [
    {
     "data": {
      "text/plain": [
       "0.12029037760181936"
      ]
     },
     "execution_count": 167,
     "metadata": {},
     "output_type": "execute_result"
    }
   ],
   "source": [
    "control['converted'].mean()"
   ]
  },
  {
   "cell_type": "code",
   "execution_count": 168,
   "id": "247e08d2-7433-4bc3-b227-a1a75158c8e8",
   "metadata": {},
   "outputs": [
    {
     "data": {
      "text/plain": [
       "0.11872721981235362"
      ]
     },
     "execution_count": 168,
     "metadata": {},
     "output_type": "execute_result"
    }
   ],
   "source": [
    "treatment['converted'].mean()"
   ]
  },
  {
   "cell_type": "code",
   "execution_count": 169,
   "id": "779f0ec2-21c8-4aae-9587-89f4874f7255",
   "metadata": {},
   "outputs": [],
   "source": [
    "z_stat, p_value = stests.ztest(control['converted'], treatment['converted'])"
   ]
  },
  {
   "cell_type": "code",
   "execution_count": 170,
   "id": "15612ddc-2260-4f22-aff3-aafe6e4bae9d",
   "metadata": {},
   "outputs": [
    {
     "name": "stdout",
     "output_type": "stream",
     "text": [
      "1.2942360603357457\n",
      "0.19558389453432445\n"
     ]
    }
   ],
   "source": [
    "print(z_stat)\n",
    "print(p_value)"
   ]
  },
  {
   "cell_type": "code",
   "execution_count": null,
   "id": "87a53b2b-847f-4b7d-8493-adb7c4368f12",
   "metadata": {},
   "outputs": [],
   "source": []
  }
 ],
 "metadata": {
  "kernelspec": {
   "display_name": "Python 3 (ipykernel)",
   "language": "python",
   "name": "python3"
  },
  "language_info": {
   "codemirror_mode": {
    "name": "ipython",
    "version": 3
   },
   "file_extension": ".py",
   "mimetype": "text/x-python",
   "name": "python",
   "nbconvert_exporter": "python",
   "pygments_lexer": "ipython3",
   "version": "3.9.12"
  }
 },
 "nbformat": 4,
 "nbformat_minor": 5
}
